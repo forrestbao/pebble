{
 "cells": [
  {
   "cell_type": "code",
   "execution_count": null,
   "metadata": {},
   "outputs": [],
   "source": [
    "# Python3 \n",
    "\n",
    "import googleapiclient, googleapiclient.discovery\n",
    "import httplib2\n",
    "from oauth2client import file, client, tools\n",
    "\n",
    "SCOPES = 'https://www.googleapis.com/auth/drive'\n",
    "store = file.Storage('storage.json')\n",
    "creds = store.get()\n",
    "if not creds or creds.invalid:\n",
    "    print (\"heere\")\n",
    "    flow = client.flow_from_clientsecrets('gdrive_Oauth.json', SCOPES)\n",
    "    creds = tools.run_flow(flow, store)\n",
    "DRIVE = googleapiclient.discovery.build('drive', 'v3', http=creds.authorize(httplib2.Http()))\n",
    "# A drive service "
   ]
  },
  {
   "cell_type": "code",
   "execution_count": null,
   "metadata": {},
   "outputs": [],
   "source": [
    "def list_folders(DRIVE):\n",
    "    files = DRIVE.files().list().execute().get('files', [])\n",
    "    for f in files:\n",
    "        if f['mimeType'] == 'application/vnd.google-apps.folder':\n",
    "            print(f['name'], f['id'], f['mimeType'])\n",
    "#        print (f)\n",
    "            \n",
    "    return None\n",
    "\n",
    "list_folders(DRIVE)"
   ]
  },
  {
   "cell_type": "code",
   "execution_count": null,
   "metadata": {},
   "outputs": [],
   "source": [
    "def search_file_by_name(DRIVE, name):\n",
    "    files = DRIVE.files().list(q=\"name contains '\" + name + \"'\").execute().get('files', [])\n",
    "    for f in files:\n",
    "        print (f)\n",
    "        \n",
    "search_file_by_name(DRIVE, 'QA')"
   ]
  },
  {
   "cell_type": "code",
   "execution_count": null,
   "metadata": {},
   "outputs": [],
   "source": [
    "def get_file_metadata(DRIVE, fileid, fields=None):\n",
    "    metadata = {}\n",
    "    \n",
    "    if fields == None:\n",
    "        file = DRIVE.files().get(fileId=fileid, fields=\"*\").execute()\n",
    "        metadata = file\n",
    "        return metadata\n",
    "    \n",
    "    for field in fields:\n",
    "        file = DRIVE.files().get(fileId=fileid, fields=field).execute()\n",
    "        metadata[field] = file.get(field, '')\n",
    "        \n",
    "    return metadata\n",
    "    \n",
    "get_file_metadata(DRIVE, '', ['name', 'parents'])\n"
   ]
  },
  {
   "cell_type": "code",
   "execution_count": null,
   "metadata": {},
   "outputs": [],
   "source": [
    "def upload_to_folder(DRIVE, file_info, GDrive_folder_ID):    \n",
    "    file_metadata =  {\n",
    "        'name': file_info['cloud_name'],\n",
    "        'parents': [GDrive_folder_ID]\n",
    "    }\n",
    "    \n",
    "    media = googleapiclient.http.MediaFileUpload(file_info['local_path'],\n",
    "                                            mimetype=file_info.get('type', None),\n",
    "                                            resumable=True)\n",
    "    file = DRIVE.files().create(body=file_metadata,\n",
    "                                    media_body=media,\n",
    "                                    fields='id').execute()\n",
    "    file_ID= file.get('id', '')\n",
    "    \n",
    "    print ('File ID: %s' % file.get('id')    )\n",
    "    \n",
    "    GDrive_metadata = DRIVE.files().get(fileId=file_ID, fields=\"*\").execute()\n",
    "    \n",
    "    for key,value in GDrive_metadata.iteritems():\n",
    "        print (key, value)\n",
    "\n",
    "file_info = {'local_path':'QA_test.json', \n",
    "              'type':'application/json', \n",
    "              'cloud_name':'QA_test_data.json'}\n",
    "upload_to_folder(DRIVE, file_info, '')"
   ]
  },
  {
   "cell_type": "code",
   "execution_count": null,
   "metadata": {},
   "outputs": [],
   "source": [
    "    "
   ]
  }
 ],
 "metadata": {
  "kernelspec": {
   "display_name": "Python 3",
   "language": "python",
   "name": "python3"
  },
  "language_info": {
   "codemirror_mode": {
    "name": "ipython",
    "version": 3
   },
   "file_extension": ".py",
   "mimetype": "text/x-python",
   "name": "python",
   "nbconvert_exporter": "python",
   "pygments_lexer": "ipython3",
   "version": "3.6.7"
  }
 },
 "nbformat": 4,
 "nbformat_minor": 2
}
